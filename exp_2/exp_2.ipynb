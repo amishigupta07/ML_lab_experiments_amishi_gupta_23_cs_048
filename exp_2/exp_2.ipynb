{
  "cells": [
    {
      "cell_type": "markdown",
      "metadata": {
        "id": "OgdI_KEzHA6T"
      },
      "source": [
        "# ML Lab — Assignment: 2\n",
        "\n",
        "Amishi Gupta\n",
        "23/CS/048\n",
        "\n",
        "Objective\n",
        "Implement linear regression from scratch using numpy by (a) solving the normal equation, and\n",
        "(b) using gradient descent. Secondly also implement it using scikit-learn’s LinearRegression.\n",
        "Produce plots that show fit quality, (loss vs iterations), and gradient/ loss-surface visualizations."
      ]
    },
    {
      "cell_type": "code",
      "execution_count": 1,
      "metadata": {
        "colab": {
          "base_uri": "https://localhost:8080/",
          "height": 104
        },
        "id": "i2NLmIc9HAV8",
        "outputId": "d10d1bec-df5d-466c-eb01-04f79d1e48fc"
      },
      "outputs": [
        {
          "data": {
            "text/html": [
              "\n",
              "     <input type=\"file\" id=\"files-06486ea2-472c-4ab2-ac50-db18fb85117f\" name=\"files[]\" multiple disabled\n",
              "        style=\"border:none\" />\n",
              "     <output id=\"result-06486ea2-472c-4ab2-ac50-db18fb85117f\">\n",
              "      Upload widget is only available when the cell has been executed in the\n",
              "      current browser session. Please rerun this cell to enable.\n",
              "      </output>\n",
              "      <script>// Copyright 2017 Google LLC\n",
              "//\n",
              "// Licensed under the Apache License, Version 2.0 (the \"License\");\n",
              "// you may not use this file except in compliance with the License.\n",
              "// You may obtain a copy of the License at\n",
              "//\n",
              "//      http://www.apache.org/licenses/LICENSE-2.0\n",
              "//\n",
              "// Unless required by applicable law or agreed to in writing, software\n",
              "// distributed under the License is distributed on an \"AS IS\" BASIS,\n",
              "// WITHOUT WARRANTIES OR CONDITIONS OF ANY KIND, either express or implied.\n",
              "// See the License for the specific language governing permissions and\n",
              "// limitations under the License.\n",
              "\n",
              "/**\n",
              " * @fileoverview Helpers for google.colab Python module.\n",
              " */\n",
              "(function(scope) {\n",
              "function span(text, styleAttributes = {}) {\n",
              "  const element = document.createElement('span');\n",
              "  element.textContent = text;\n",
              "  for (const key of Object.keys(styleAttributes)) {\n",
              "    element.style[key] = styleAttributes[key];\n",
              "  }\n",
              "  return element;\n",
              "}\n",
              "\n",
              "// Max number of bytes which will be uploaded at a time.\n",
              "const MAX_PAYLOAD_SIZE = 100 * 1024;\n",
              "\n",
              "function _uploadFiles(inputId, outputId) {\n",
              "  const steps = uploadFilesStep(inputId, outputId);\n",
              "  const outputElement = document.getElementById(outputId);\n",
              "  // Cache steps on the outputElement to make it available for the next call\n",
              "  // to uploadFilesContinue from Python.\n",
              "  outputElement.steps = steps;\n",
              "\n",
              "  return _uploadFilesContinue(outputId);\n",
              "}\n",
              "\n",
              "// This is roughly an async generator (not supported in the browser yet),\n",
              "// where there are multiple asynchronous steps and the Python side is going\n",
              "// to poll for completion of each step.\n",
              "// This uses a Promise to block the python side on completion of each step,\n",
              "// then passes the result of the previous step as the input to the next step.\n",
              "function _uploadFilesContinue(outputId) {\n",
              "  const outputElement = document.getElementById(outputId);\n",
              "  const steps = outputElement.steps;\n",
              "\n",
              "  const next = steps.next(outputElement.lastPromiseValue);\n",
              "  return Promise.resolve(next.value.promise).then((value) => {\n",
              "    // Cache the last promise value to make it available to the next\n",
              "    // step of the generator.\n",
              "    outputElement.lastPromiseValue = value;\n",
              "    return next.value.response;\n",
              "  });\n",
              "}\n",
              "\n",
              "/**\n",
              " * Generator function which is called between each async step of the upload\n",
              " * process.\n",
              " * @param {string} inputId Element ID of the input file picker element.\n",
              " * @param {string} outputId Element ID of the output display.\n",
              " * @return {!Iterable<!Object>} Iterable of next steps.\n",
              " */\n",
              "function* uploadFilesStep(inputId, outputId) {\n",
              "  const inputElement = document.getElementById(inputId);\n",
              "  inputElement.disabled = false;\n",
              "\n",
              "  const outputElement = document.getElementById(outputId);\n",
              "  outputElement.innerHTML = '';\n",
              "\n",
              "  const pickedPromise = new Promise((resolve) => {\n",
              "    inputElement.addEventListener('change', (e) => {\n",
              "      resolve(e.target.files);\n",
              "    });\n",
              "  });\n",
              "\n",
              "  const cancel = document.createElement('button');\n",
              "  inputElement.parentElement.appendChild(cancel);\n",
              "  cancel.textContent = 'Cancel upload';\n",
              "  const cancelPromise = new Promise((resolve) => {\n",
              "    cancel.onclick = () => {\n",
              "      resolve(null);\n",
              "    };\n",
              "  });\n",
              "\n",
              "  // Wait for the user to pick the files.\n",
              "  const files = yield {\n",
              "    promise: Promise.race([pickedPromise, cancelPromise]),\n",
              "    response: {\n",
              "      action: 'starting',\n",
              "    }\n",
              "  };\n",
              "\n",
              "  cancel.remove();\n",
              "\n",
              "  // Disable the input element since further picks are not allowed.\n",
              "  inputElement.disabled = true;\n",
              "\n",
              "  if (!files) {\n",
              "    return {\n",
              "      response: {\n",
              "        action: 'complete',\n",
              "      }\n",
              "    };\n",
              "  }\n",
              "\n",
              "  for (const file of files) {\n",
              "    const li = document.createElement('li');\n",
              "    li.append(span(file.name, {fontWeight: 'bold'}));\n",
              "    li.append(span(\n",
              "        `(${file.type || 'n/a'}) - ${file.size} bytes, ` +\n",
              "        `last modified: ${\n",
              "            file.lastModifiedDate ? file.lastModifiedDate.toLocaleDateString() :\n",
              "                                    'n/a'} - `));\n",
              "    const percent = span('0% done');\n",
              "    li.appendChild(percent);\n",
              "\n",
              "    outputElement.appendChild(li);\n",
              "\n",
              "    const fileDataPromise = new Promise((resolve) => {\n",
              "      const reader = new FileReader();\n",
              "      reader.onload = (e) => {\n",
              "        resolve(e.target.result);\n",
              "      };\n",
              "      reader.readAsArrayBuffer(file);\n",
              "    });\n",
              "    // Wait for the data to be ready.\n",
              "    let fileData = yield {\n",
              "      promise: fileDataPromise,\n",
              "      response: {\n",
              "        action: 'continue',\n",
              "      }\n",
              "    };\n",
              "\n",
              "    // Use a chunked sending to avoid message size limits. See b/62115660.\n",
              "    let position = 0;\n",
              "    do {\n",
              "      const length = Math.min(fileData.byteLength - position, MAX_PAYLOAD_SIZE);\n",
              "      const chunk = new Uint8Array(fileData, position, length);\n",
              "      position += length;\n",
              "\n",
              "      const base64 = btoa(String.fromCharCode.apply(null, chunk));\n",
              "      yield {\n",
              "        response: {\n",
              "          action: 'append',\n",
              "          file: file.name,\n",
              "          data: base64,\n",
              "        },\n",
              "      };\n",
              "\n",
              "      let percentDone = fileData.byteLength === 0 ?\n",
              "          100 :\n",
              "          Math.round((position / fileData.byteLength) * 100);\n",
              "      percent.textContent = `${percentDone}% done`;\n",
              "\n",
              "    } while (position < fileData.byteLength);\n",
              "  }\n",
              "\n",
              "  // All done.\n",
              "  yield {\n",
              "    response: {\n",
              "      action: 'complete',\n",
              "    }\n",
              "  };\n",
              "}\n",
              "\n",
              "scope.google = scope.google || {};\n",
              "scope.google.colab = scope.google.colab || {};\n",
              "scope.google.colab._files = {\n",
              "  _uploadFiles,\n",
              "  _uploadFilesContinue,\n",
              "};\n",
              "})(self);\n",
              "</script> "
            ],
            "text/plain": [
              "<IPython.core.display.HTML object>"
            ]
          },
          "metadata": {},
          "output_type": "display_data"
        },
        {
          "name": "stdout",
          "output_type": "stream",
          "text": [
            "Saving california_housing_test.csv to california_housing_test.csv\n",
            "Saving california_housing_train.csv to california_housing_train.csv\n"
          ]
        }
      ],
      "source": [
        "#importing files\n",
        "from google.colab import files\n",
        "uploaded = files.upload()"
      ]
    },
    {
      "cell_type": "code",
      "execution_count": 19,
      "metadata": {
        "id": "JKILppWgH5lt"
      },
      "outputs": [],
      "source": [
        "#import libraries\n",
        "import numpy as np\n",
        "import pandas as pd\n",
        "import matplotlib.pyplot as plt\n",
        "from sklearn.linear_model import LinearRegression\n",
        "from sklearn.preprocessing import StandardScaler\n",
        "from sklearn.metrics import mean_squared_error,mean_absolute_error\n",
        "from sklearn.metrics import r2_score"
      ]
    },
    {
      "cell_type": "code",
      "execution_count": 6,
      "metadata": {
        "id": "2WOGXpGPIhkF"
      },
      "outputs": [],
      "source": [
        "#data preprocessing\n",
        "\n",
        "#loading the train and test csvs\n",
        "train = pd.read_csv('california_housing_train.csv')\n",
        "test = pd.read_csv('california_housing_test.csv')"
      ]
    },
    {
      "cell_type": "code",
      "execution_count": 7,
      "metadata": {
        "id": "CgW8FxMeMLT3"
      },
      "outputs": [],
      "source": [
        "#seperating features and target\n",
        "x_train= train.drop(columns=[\"median_house_value\"]).values\n",
        "y_train=train[\"median_house_value\"].values.reshape(-1, 1)\n",
        "x_test=test.drop(columns=[\"median_house_value\"]).values\n",
        "y_test =test[\"median_house_value\"].values.reshape(-1, 1)"
      ]
    },
    {
      "cell_type": "code",
      "execution_count": 8,
      "metadata": {
        "id": "lxLULc4nNjGs"
      },
      "outputs": [],
      "source": [
        "#standardize features\n",
        "scaler = StandardScaler()\n",
        "x_train_sc = scaler.fit_transform(x_train)\n",
        "x_test_sc = scaler.transform(x_test)"
      ]
    },
    {
      "cell_type": "code",
      "execution_count": 10,
      "metadata": {
        "id": "cfUKeel2Nzvy"
      },
      "outputs": [],
      "source": [
        "#intercept (bias) column of ones\n",
        "x_train_scaled_bias = np.hstack([np.ones((x_train_sc.shape[0], 1)), x_train_sc])\n",
        "x_test_scaled_bias = np.hstack([np.ones((x_test_sc.shape[0], 1)), x_test_sc])\n"
      ]
    },
    {
      "cell_type": "code",
      "execution_count": 11,
      "metadata": {
        "id": "_TAxvIVDOoRU"
      },
      "outputs": [],
      "source": [
        "#implementing normal equation (closed-form)\n",
        "def normal_equation(x, y):\n",
        "    theta = np.linalg.inv(x.T@x)@x.T@y\n",
        "    return theta\n",
        "\n",
        "theta_normal = normal_equation(x_train_scaled_bias, y_train)\n",
        "y_pred_normal = x_test_scaled_bias@theta_normal"
      ]
    },
    {
      "cell_type": "code",
      "execution_count": 13,
      "metadata": {
        "id": "8zMTeu1pPX_L"
      },
      "outputs": [],
      "source": [
        "#implement batch gradient descent (iterative)\n",
        "def gradient_descent(x,y,lr=0.01,n_iter=1000,tol=1e-6):\n",
        "    #lr is learning rate (alpha)\n",
        "    n_samples, n_features = x.shape\n",
        "    #initializing\n",
        "    theta = np.zeros((n_features,1))\n",
        "    loss_history = []\n",
        "    for i in range(n_iter):\n",
        "        y_pred = x@theta\n",
        "        error = y_pred-y\n",
        "        loss = (1/(2*n_samples))*np.sum(error**2)\n",
        "        loss_history.append(loss)\n",
        "\n",
        "        gradient =(1/n_samples)*x.T@error\n",
        "        theta = theta-lr*gradient\n",
        "\n",
        "        #early stopping tolerance\n",
        "        if i>0 and abs(loss_history[-2]-loss_history[-1])<tol:\n",
        "            break\n",
        "\n",
        "    return theta, loss_history\n",
        "\n",
        "theta_gd,loss_history= gradient_descent(x_train_scaled_bias,y_train,lr=0.01,n_iter=5000)\n",
        "y_pred_gd=x_test_scaled_bias@theta_gd\n"
      ]
    },
    {
      "cell_type": "code",
      "execution_count": 14,
      "metadata": {
        "id": "hZl4g_Hu1KJv"
      },
      "outputs": [],
      "source": [
        "#comparisons with scikit-learn\n",
        "\n",
        "#calculates optimal parameters\n",
        "lr_model = LinearRegression()\n",
        "\n",
        "#fit trains the model\n",
        "lr_model.fit(x_train_sc,y_train)\n",
        "\n",
        "#predicts output for test data\n",
        "y_pred_sklearn = lr_model.predict(x_test_sc)"
      ]
    },
    {
      "cell_type": "code",
      "execution_count": 15,
      "metadata": {
        "colab": {
          "base_uri": "https://localhost:8080/"
        },
        "id": "MvX15xRc2VX_",
        "outputId": "4a43408d-0d58-4977-dc3f-a1fb85ee5bf2"
      },
      "outputs": [
        {
          "name": "stdout",
          "output_type": "stream",
          "text": [
            "[[352812.31112454]\n",
            " [212717.70074517]\n",
            " [272344.69951889]\n",
            " [314244.31934958]\n",
            " [119644.22238687]]\n",
            "[[352812.31112454]\n",
            " [212717.70074517]\n",
            " [272344.69951889]\n",
            " [314244.31934958]\n",
            " [119644.22238687]]\n"
          ]
        }
      ],
      "source": [
        "#checking first 5 predicted vals\n",
        "print(y_pred_normal[:5])\n",
        "print(y_pred_sklearn[:5])"
      ]
    },
    {
      "cell_type": "code",
      "execution_count": 16,
      "metadata": {
        "colab": {
          "base_uri": "https://localhost:8080/",
          "height": 472
        },
        "id": "ri_Mf1Mc1puv",
        "outputId": "00321bff-9f2c-42a7-e88e-733c12fe701a"
      },
      "outputs": [
        {
          "data": {
            "image/png": "[encoded data removed]",
            "text/plain": [
              "<Figure size 640x480 with 1 Axes>"
            ]
          },
          "metadata": {},
          "output_type": "display_data"
        }
      ],
      "source": [
        "#visualization\n",
        "\n",
        "#loss vs iterations\n",
        "plt.plot(loss_history,label='gradient descent loss')\n",
        "plt.xlabel(\"Iteration\")\n",
        "plt.ylabel(\"MSE Loss\")\n",
        "plt.title(\"gradient descent loss vs iteration\")\n",
        "plt.legend()\n",
        "plt.show()\n"
      ]
    },
    {
      "cell_type": "code",
      "execution_count": 17,
      "metadata": {
        "colab": {
          "base_uri": "https://localhost:8080/",
          "height": 452
        },
        "id": "-xYfzC8u3UZA",
        "outputId": "bf452fc8-2e07-41d7-b36a-ed73354bb0e1"
      },
      "outputs": [
        {
          "data": {
            "image/png": "[encoded data removed]",
            "text/plain": [
              "<Figure size 640x480 with 1 Axes>"
            ]
          },
          "metadata": {},
          "output_type": "display_data"
        }
      ],
      "source": [
        "#validation loss comparison\n",
        "plt.bar([\"Normal Eq\", \"Gradient Descent\", \"Sklearn\"],\n",
        "        [mean_squared_error(y_test,y_pred_normal),\n",
        "         mean_squared_error(y_test,y_pred_gd),\n",
        "         mean_squared_error(y_test,y_pred_sklearn)])\n",
        "plt.ylabel(\"MSE on Test Set\")\n",
        "plt.title(\"validation loss comparison\")\n",
        "plt.show()"
      ]
    },
    {
      "cell_type": "code",
      "execution_count": 20,
      "metadata": {
        "colab": {
          "base_uri": "https://localhost:8080/"
        },
        "id": "gyRoL34y4Su5",
        "outputId": "89086fa7-7cae-4a19-e70e-77212c13ba48"
      },
      "outputs": [
        {
          "name": "stdout",
          "output_type": "stream",
          "text": [
            "Normal Equation -> MSE: 4867205486.93, RMSE: 69765.36, R2: 0.6195, MAE: 50352.23\n",
            "Gradient Descent -> MSE: 4867671119.90, RMSE: 69768.70, R2: 0.6195, MAE: 50292.76\n",
            "Sklearn -> MSE: 4867205486.93, RMSE: 69765.36, R2: 0.6195, MAE: 50352.23\n"
          ]
        }
      ],
      "source": [
        "#evaluation metrics\n",
        "\n",
        "def evaluate(y_true, y_pred, name=\"Model\"):\n",
        "    mse = mean_squared_error(y_true, y_pred)\n",
        "    rmse = np.sqrt(mse)\n",
        "    r2 = r2_score(y_true, y_pred)\n",
        "    mae = mean_absolute_error(y_true, y_pred)\n",
        "    print(f\"{name} -> MSE: {mse:.2f}, RMSE: {rmse:.2f}, R2: {r2:.4f}, MAE: {mae:.2f}\")\n",
        "\n",
        "evaluate(y_test,y_pred_normal,\"Normal Equation\")\n",
        "evaluate(y_test,y_pred_gd,\"Gradient Descent\")\n",
        "evaluate(y_test,y_pred_sklearn,\"Sklearn\")"
      ]
    }
  ],
  "metadata": {
    "colab": {
      "provenance": []
    },
    "kernelspec": {
      "display_name": "Python 3",
      "name": "python3"
    },
    "language_info": {
      "name": "python"
    }
  },
  "nbformat": 4,
  "nbformat_minor": 0
}
